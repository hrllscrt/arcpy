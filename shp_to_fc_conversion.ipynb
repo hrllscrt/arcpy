{
  "nbformat": 4,
  "nbformat_minor": 0,
  "metadata": {
    "colab": {
      "name": "shp_to_fc_conversion.ipynb",
      "provenance": [],
      "collapsed_sections": [],
      "authorship_tag": "ABX9TyNNCd2ZcLyvnHFaTgbjjWWs",
      "include_colab_link": true
    },
    "kernelspec": {
      "name": "python3",
      "display_name": "Python 3"
    }
  },
  "cells": [
    {
      "cell_type": "markdown",
      "metadata": {
        "id": "view-in-github",
        "colab_type": "text"
      },
      "source": [
        "<a href=\"https://colab.research.google.com/github/hrllscrt/arcpy/blob/master/shp_to_fc_conversion.ipynb\" target=\"_parent\"><img src=\"https://colab.research.google.com/assets/colab-badge.svg\" alt=\"Open In Colab\"/></a>"
      ]
    },
    {
      "cell_type": "markdown",
      "metadata": {
        "id": "rPpcB_U6xnW6",
        "colab_type": "text"
      },
      "source": [
        "This code block is to execute **batch** geoprocessing to convert ***shapefile to feature class***.\n",
        "\n",
        "The main principle to understand in batch geoprocessing is that you are required to make the input data that you have stashed in a folder visible to the geoprocess. \n",
        "\n",
        "And for that purpose, you will have to be familiar with the task of:\n",
        "\n",
        "1.   Creating the list of data\n",
        "2.   Enabling the looping when executing the geoprocessing tool\n",
        "\n",
        "The steps for it are as outlined below\n",
        "\n"
      ]
    },
    {
      "cell_type": "code",
      "metadata": {
        "id": "-p9ZWV9DzTPP",
        "colab_type": "code",
        "colab": {}
      },
      "source": [
        "# First, import the arcpy module\n",
        "import arcpy"
      ],
      "execution_count": null,
      "outputs": []
    },
    {
      "cell_type": "code",
      "metadata": {
        "id": "er2mjktfq-1u",
        "colab_type": "code",
        "colab": {}
      },
      "source": [
        "# Second, establish the work environment \n",
        "# The work environment here is referred to the folder where the input data \n",
        "## aka your shapefile data, is stored\n",
        "arcpy.env.workspace = r\"D:/work/earth/input\""
      ],
      "execution_count": null,
      "outputs": []
    },
    {
      "cell_type": "code",
      "metadata": {
        "id": "x7896XMc2BUJ",
        "colab_type": "code",
        "colab": {}
      },
      "source": [
        "# Thirdly, proceed to create a list of the input data stored within the \n",
        "## input folder by using the 'arcpy.ListFeatureClasses()' function\n",
        "### Since you're going to list it down via this function, naturally, assign\n",
        "#### the result into a variable\n",
        "shps = arcpy.ListFeatureClasses()\n",
        "print(shps) # use print() to print out the list of the input data to ensure"
      ],
      "execution_count": null,
      "outputs": []
    },
    {
      "cell_type": "code",
      "metadata": {
        "id": "GFaNmtYw2utd",
        "colab_type": "code",
        "colab": {}
      },
      "source": [
        "# Fourth, create an empty variable to 'house' the output feature class that\n",
        "## so that we can easily call all the output generated from this geoprocess\n",
        "fcList = [] "
      ],
      "execution_count": null,
      "outputs": []
    },
    {
      "cell_type": "code",
      "metadata": {
        "id": "St_zumub3aYr",
        "colab_type": "code",
        "colab": {}
      },
      "source": [
        "# Fifth, the looping will start here using the 'for...in...' statement\n",
        "## The loop will be referring to the input data variable and its housing list \n",
        "## variable\n",
        "## Do note that we seemingly created a new name in reference to the content of\n",
        "## list that houses our shapefiles\n",
        "# So 'shp' refers to each input data layer in the 'shps' list that will go \n",
        "## run within the loop of the geoprocessing tool\n",
        "for shp in shps:\n",
        "  # The output feature variable is created and it is called 'fc'.\n",
        "  # Fill in the input data 'shp' and the output geodatabase, And since shapefile\n",
        "  ## has '.shp' extension by default, we'll need to get rid of it using the\n",
        "  ### arcpy.Desribe(shapefile variable).baseName' function when creating the \n",
        "  #### names of the output to avoid ERROR 00021.\n",
        "  fc = arcpy.FeatureClassToFeatureClass_conversion(shp, r\"D:/work/earth/output/feature.gdb\", (arcpy.Describe(shp),baseName) + \"_converted\")"
      ],
      "execution_count": null,
      "outputs": []
    },
    {
      "cell_type": "code",
      "metadata": {
        "id": "woHTM6kr5NPw",
        "colab_type": "code",
        "colab": {}
      },
      "source": [
        "# Then we indicate that the output data will be interned into its 'housing' list\n",
        "## variable 'fcList' which we have created initially. \n",
        "fcList(fc)\n",
        "\n",
        "# And add the print(output list) function to ensure that all the output data \n",
        "## are captured\n",
        "print(fcList)"
      ],
      "execution_count": null,
      "outputs": []
    }
  ]
}